{
 "cells": [
  {
   "cell_type": "code",
   "execution_count": 2,
   "id": "ef7e0478",
   "metadata": {},
   "outputs": [],
   "source": [
    "import tensorflow as tf\n",
    "import numpy as np"
   ]
  },
  {
   "cell_type": "markdown",
   "id": "bc0832c9",
   "metadata": {},
   "source": [
    "# Random tensor dengan shape (5,5)"
   ]
  },
  {
   "cell_type": "code",
   "execution_count": 4,
   "id": "855d898e",
   "metadata": {},
   "outputs": [],
   "source": [
    "random_tensor = np.around(tf.random.normal([5,5]))"
   ]
  },
  {
   "cell_type": "code",
   "execution_count": 5,
   "id": "44ac2c61",
   "metadata": {},
   "outputs": [
    {
     "data": {
      "text/plain": [
       "array([[-0., -0., -2., -0., -0.],\n",
       "       [ 1., -0., -0., -1., -1.],\n",
       "       [-1., -0.,  1.,  0.,  1.],\n",
       "       [-0., -2.,  1.,  0., -1.],\n",
       "       [ 1.,  1.,  0.,  1.,  1.]], dtype=float32)"
      ]
     },
     "execution_count": 5,
     "metadata": {},
     "output_type": "execute_result"
    }
   ],
   "source": [
    "random_tensor"
   ]
  },
  {
   "cell_type": "markdown",
   "id": "0ce76525",
   "metadata": {},
   "source": [
    "# Tensor bilangan prima dengan shape (5,5)"
   ]
  },
  {
   "cell_type": "code",
   "execution_count": 6,
   "id": "d1d14e75",
   "metadata": {},
   "outputs": [],
   "source": [
    "list = [[1, 2, 3, 5, 7], [11, 13, 17, 19, 23], [29, 31, 37, 41, 43], [47, 53, 59, 61, 71], [73, 79, 83, 89, 97]]"
   ]
  },
  {
   "cell_type": "code",
   "execution_count": 7,
   "id": "8a3e3293",
   "metadata": {},
   "outputs": [],
   "source": [
    "prime_tensor = tf.convert_to_tensor(list, dtype=tf.float32)"
   ]
  },
  {
   "cell_type": "code",
   "execution_count": 8,
   "id": "16a09d45",
   "metadata": {},
   "outputs": [
    {
     "data": {
      "text/plain": [
       "<tf.Tensor: shape=(5, 5), dtype=float32, numpy=\n",
       "array([[ 1.,  2.,  3.,  5.,  7.],\n",
       "       [11., 13., 17., 19., 23.],\n",
       "       [29., 31., 37., 41., 43.],\n",
       "       [47., 53., 59., 61., 71.],\n",
       "       [73., 79., 83., 89., 97.]], dtype=float32)>"
      ]
     },
     "execution_count": 8,
     "metadata": {},
     "output_type": "execute_result"
    }
   ],
   "source": [
    "prime_tensor"
   ]
  },
  {
   "cell_type": "markdown",
   "id": "467adc07",
   "metadata": {},
   "source": [
    "# Dimensi random tensor"
   ]
  },
  {
   "cell_type": "code",
   "execution_count": 9,
   "id": "a140a4f7",
   "metadata": {},
   "outputs": [
    {
     "data": {
      "text/plain": [
       "(5, 5)"
      ]
     },
     "execution_count": 9,
     "metadata": {},
     "output_type": "execute_result"
    }
   ],
   "source": [
    "random_tensor.shape"
   ]
  },
  {
   "cell_type": "code",
   "execution_count": 10,
   "id": "1250c55a",
   "metadata": {},
   "outputs": [
    {
     "data": {
      "text/plain": [
       "TensorShape([5, 5])"
      ]
     },
     "execution_count": 10,
     "metadata": {},
     "output_type": "execute_result"
    }
   ],
   "source": [
    "prime_tensor.shape"
   ]
  },
  {
   "cell_type": "markdown",
   "id": "d967ae21",
   "metadata": {},
   "source": [
    "# Perhitungan Aritmatika dua variable"
   ]
  },
  {
   "cell_type": "code",
   "execution_count": 12,
   "id": "561a2d88",
   "metadata": {},
   "outputs": [],
   "source": [
    "a = random_tensor\n",
    "b = prime_tensor\n",
    "\n",
    "jumlah = tf.add(a, b)\n",
    "kurang = tf.subtract(a, b)\n",
    "kali = tf.multiply(a, b)\n",
    "bagi = tf.divide(a, b)\n",
    "pangkat = tf.pow(a, b)"
   ]
  },
  {
   "cell_type": "code",
   "execution_count": 13,
   "id": "2950f23b",
   "metadata": {},
   "outputs": [
    {
     "name": "stdout",
     "output_type": "stream",
     "text": [
      "tf.Tensor(\n",
      "[[ 1.  2.  1.  5.  7.]\n",
      " [12. 13. 17. 18. 22.]\n",
      " [28. 31. 38. 41. 44.]\n",
      " [47. 51. 60. 61. 70.]\n",
      " [74. 80. 83. 90. 98.]], shape=(5, 5), dtype=float32)\n"
     ]
    }
   ],
   "source": [
    "print(jumlah)"
   ]
  },
  {
   "cell_type": "code",
   "execution_count": 14,
   "id": "090aa93f",
   "metadata": {},
   "outputs": [
    {
     "name": "stdout",
     "output_type": "stream",
     "text": [
      "tf.Tensor(\n",
      "[[ -1.  -2.  -5.  -5.  -7.]\n",
      " [-10. -13. -17. -20. -24.]\n",
      " [-30. -31. -36. -41. -42.]\n",
      " [-47. -55. -58. -61. -72.]\n",
      " [-72. -78. -83. -88. -96.]], shape=(5, 5), dtype=float32)\n"
     ]
    }
   ],
   "source": [
    "print(kurang)"
   ]
  },
  {
   "cell_type": "code",
   "execution_count": 15,
   "id": "671c4106",
   "metadata": {},
   "outputs": [
    {
     "name": "stdout",
     "output_type": "stream",
     "text": [
      "tf.Tensor(\n",
      "[[  -0.   -0.   -6.   -0.   -0.]\n",
      " [  11.   -0.   -0.  -19.  -23.]\n",
      " [ -29.   -0.   37.    0.   43.]\n",
      " [  -0. -106.   59.    0.  -71.]\n",
      " [  73.   79.    0.   89.   97.]], shape=(5, 5), dtype=float32)\n"
     ]
    }
   ],
   "source": [
    "print(kali)"
   ]
  },
  {
   "cell_type": "code",
   "execution_count": 16,
   "id": "850d30b3",
   "metadata": {},
   "outputs": [
    {
     "name": "stdout",
     "output_type": "stream",
     "text": [
      "tf.Tensor(\n",
      "[[-0.         -0.         -0.6666667  -0.         -0.        ]\n",
      " [ 0.09090909 -0.         -0.         -0.05263158 -0.04347826]\n",
      " [-0.03448276 -0.          0.02702703  0.          0.02325581]\n",
      " [-0.         -0.03773585  0.01694915  0.         -0.01408451]\n",
      " [ 0.01369863  0.01265823  0.          0.01123596  0.01030928]], shape=(5, 5), dtype=float32)\n"
     ]
    }
   ],
   "source": [
    "print(bagi)"
   ]
  },
  {
   "cell_type": "code",
   "execution_count": 17,
   "id": "c370798f",
   "metadata": {},
   "outputs": [
    {
     "name": "stdout",
     "output_type": "stream",
     "text": [
      "tf.Tensor(\n",
      "[[-0.000000e+00  0.000000e+00 -8.000000e+00 -0.000000e+00 -0.000000e+00]\n",
      " [ 1.000000e+00 -0.000000e+00 -0.000000e+00 -1.000000e+00 -1.000000e+00]\n",
      " [-1.000000e+00 -0.000000e+00  1.000000e+00  0.000000e+00  1.000000e+00]\n",
      " [-0.000000e+00 -9.007199e+15  1.000000e+00  0.000000e+00 -1.000000e+00]\n",
      " [ 1.000000e+00  1.000000e+00  0.000000e+00  1.000000e+00  1.000000e+00]], shape=(5, 5), dtype=float32)\n"
     ]
    }
   ],
   "source": [
    "print(pangkat)"
   ]
  },
  {
   "cell_type": "markdown",
   "id": "5a5c4401",
   "metadata": {},
   "source": [
    "# Nilai maksimal dan Minimal dari variable random_tensor"
   ]
  },
  {
   "cell_type": "code",
   "execution_count": 18,
   "id": "d89fb506",
   "metadata": {},
   "outputs": [
    {
     "name": "stdout",
     "output_type": "stream",
     "text": [
      "Maksimal :  tf.Tensor([1 4 2 4 2], shape=(5,), dtype=int64)\n",
      "Minimal :  tf.Tensor([2 3 0 1 1], shape=(5,), dtype=int64)\n"
     ]
    }
   ],
   "source": [
    "print(\"Maksimal : \",tf.argmax(random_tensor))\n",
    "print(\"Minimal : \",tf.argmin(random_tensor))"
   ]
  },
  {
   "cell_type": "code",
   "execution_count": 19,
   "id": "d8f1a6dc",
   "metadata": {},
   "outputs": [
    {
     "name": "stdout",
     "output_type": "stream",
     "text": [
      "tf.Tensor(\n",
      "[[-0. -0. -2. -0. -0.]\n",
      " [ 1. -0. -0. -1. -1.]\n",
      " [-1. -0.  1.  0.  1.]\n",
      " [-0. -2.  1.  0. -1.]\n",
      " [ 1.  1.  0.  1.  1.]\n",
      " [ 1.  2.  3.  5.  7.]\n",
      " [11. 13. 17. 19. 23.]\n",
      " [29. 31. 37. 41. 43.]\n",
      " [47. 53. 59. 61. 71.]\n",
      " [73. 79. 83. 89. 97.]], shape=(10, 5), dtype=float32)\n"
     ]
    }
   ],
   "source": [
    "print(tf.concat([random_tensor, prime_tensor],axis=0))"
   ]
  },
  {
   "cell_type": "markdown",
   "id": "fac0d4a7",
   "metadata": {},
   "source": [
    "# Sorting Descending kedua tensor"
   ]
  },
  {
   "cell_type": "code",
   "execution_count": 20,
   "id": "72df2538",
   "metadata": {},
   "outputs": [
    {
     "name": "stdout",
     "output_type": "stream",
     "text": [
      "Sebelum di sorting secara descending [[-0. -0. -2. -0. -0.]\n",
      " [ 1. -0. -0. -1. -1.]\n",
      " [-1. -0.  1.  0.  1.]\n",
      " [-0. -2.  1.  0. -1.]\n",
      " [ 1.  1.  0.  1.  1.]]\n",
      "Sesudah di sorting secara descending tf.Tensor(\n",
      "[[-0. -0. -0. -0. -2.]\n",
      " [ 1. -0. -0. -1. -1.]\n",
      " [ 1.  1. -0.  0. -1.]\n",
      " [ 1. -0.  0. -1. -2.]\n",
      " [ 1.  1.  1.  1.  0.]], shape=(5, 5), dtype=float32)\n"
     ]
    }
   ],
   "source": [
    "print(\"Sebelum di sorting secara descending\",random_tensor)\n",
    "rs = tf.sort(random_tensor, direction=\"DESCENDING\")\n",
    "print(\"Sesudah di sorting secara descending\",rs)"
   ]
  },
  {
   "cell_type": "code",
   "execution_count": 21,
   "id": "403daaeb",
   "metadata": {},
   "outputs": [
    {
     "name": "stdout",
     "output_type": "stream",
     "text": [
      "Sebelum di sorting secara descending tf.Tensor(\n",
      "[[ 1.  2.  3.  5.  7.]\n",
      " [11. 13. 17. 19. 23.]\n",
      " [29. 31. 37. 41. 43.]\n",
      " [47. 53. 59. 61. 71.]\n",
      " [73. 79. 83. 89. 97.]], shape=(5, 5), dtype=float32)\n",
      "Sesudah di sorting secara descending tf.Tensor(\n",
      "[[ 7.  5.  3.  2.  1.]\n",
      " [23. 19. 17. 13. 11.]\n",
      " [43. 41. 37. 31. 29.]\n",
      " [71. 61. 59. 53. 47.]\n",
      " [97. 89. 83. 79. 73.]], shape=(5, 5), dtype=float32)\n"
     ]
    }
   ],
   "source": [
    "print(\"Sebelum di sorting secara descending\",prime_tensor)\n",
    "ps = tf.sort(prime_tensor, direction=\"DESCENDING\")\n",
    "print(\"Sesudah di sorting secara descending\",ps)"
   ]
  }
 ],
 "metadata": {
  "kernelspec": {
   "display_name": "Python 3",
   "language": "python",
   "name": "python3"
  },
  "language_info": {
   "codemirror_mode": {
    "name": "ipython",
    "version": 3
   },
   "file_extension": ".py",
   "mimetype": "text/x-python",
   "name": "python",
   "nbconvert_exporter": "python",
   "pygments_lexer": "ipython3",
   "version": "3.10.7"
  }
 },
 "nbformat": 4,
 "nbformat_minor": 5
}
